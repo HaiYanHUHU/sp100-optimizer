{
 "cells": [
  {
   "metadata": {},
   "cell_type": "markdown",
   "source": "## imports and setup",
   "id": "b477755b25b0085d"
  },
  {
   "metadata": {
    "ExecuteTime": {
     "end_time": "2025-04-13T07:23:24.671427Z",
     "start_time": "2025-04-13T07:23:18.748222Z"
    }
   },
   "cell_type": "code",
   "source": [
    "!pip install amplpy yfinance\n",
    "from amplpy import AMPL, ampl_notebook, Environment\n",
    "import yfinance as yf\n",
    "import matplotlib.pyplot as plt\n",
    "import pandas as pd\n",
    "import numpy as np\n",
    "import os\n",
    "\n",
    "ampl = ampl_notebook(\n",
    "    modules=[\"highs\", \"cbc\", \"gurobi\", \"cplex\"],\n",
    "    license_uuid=os.getenv(\"AMPL_LICENSE_UUID\"),\n",
    ")"
   ],
   "id": "3d320da18a0d330c",
   "outputs": [
    {
     "name": "stdout",
     "output_type": "stream",
     "text": [
      "/usr/bin/bash: warning: setlocale: LC_ALL: cannot change locale (en_US.UTF-8): No such file or directory\r\n",
      "Requirement already satisfied: amplpy in /home/rafa/Documents/College/.venv/lib/python3.9/site-packages (0.14.0)\r\n",
      "Requirement already satisfied: yfinance in /home/rafa/Documents/College/.venv/lib/python3.9/site-packages (0.2.55)\r\n",
      "Requirement already satisfied: ampltools>=0.7.5 in /home/rafa/Documents/College/.venv/lib/python3.9/site-packages (from amplpy) (0.7.5)\r\n",
      "Requirement already satisfied: pandas>=1.3.0 in /home/rafa/Documents/College/.venv/lib/python3.9/site-packages (from yfinance) (2.2.3)\r\n",
      "Requirement already satisfied: numpy>=1.16.5 in /home/rafa/Documents/College/.venv/lib/python3.9/site-packages (from yfinance) (2.0.2)\r\n",
      "Requirement already satisfied: requests>=2.31 in /home/rafa/Documents/College/.venv/lib/python3.9/site-packages (from yfinance) (2.32.3)\r\n",
      "Requirement already satisfied: multitasking>=0.0.7 in /home/rafa/Documents/College/.venv/lib/python3.9/site-packages (from yfinance) (0.0.11)\r\n",
      "Requirement already satisfied: platformdirs>=2.0.0 in /home/rafa/Documents/College/.venv/lib/python3.9/site-packages (from yfinance) (4.3.7)\r\n",
      "Requirement already satisfied: pytz>=2022.5 in /home/rafa/Documents/College/.venv/lib/python3.9/site-packages (from yfinance) (2025.2)\r\n",
      "Requirement already satisfied: frozendict>=2.3.4 in /home/rafa/Documents/College/.venv/lib/python3.9/site-packages (from yfinance) (2.4.6)\r\n",
      "Requirement already satisfied: peewee>=3.16.2 in /home/rafa/Documents/College/.venv/lib/python3.9/site-packages (from yfinance) (3.17.9)\r\n",
      "Requirement already satisfied: beautifulsoup4>=4.11.1 in /home/rafa/Documents/College/.venv/lib/python3.9/site-packages (from yfinance) (4.13.3)\r\n",
      "Requirement already satisfied: soupsieve>1.2 in /home/rafa/Documents/College/.venv/lib/python3.9/site-packages (from beautifulsoup4>=4.11.1->yfinance) (2.6)\r\n",
      "Requirement already satisfied: typing-extensions>=4.0.0 in /home/rafa/Documents/College/.venv/lib/python3.9/site-packages (from beautifulsoup4>=4.11.1->yfinance) (4.12.2)\r\n",
      "Requirement already satisfied: python-dateutil>=2.8.2 in /home/rafa/Documents/College/.venv/lib/python3.9/site-packages (from pandas>=1.3.0->yfinance) (2.9.0.post0)\r\n",
      "Requirement already satisfied: tzdata>=2022.7 in /home/rafa/Documents/College/.venv/lib/python3.9/site-packages (from pandas>=1.3.0->yfinance) (2025.2)\r\n",
      "Requirement already satisfied: charset-normalizer<4,>=2 in /home/rafa/Documents/College/.venv/lib/python3.9/site-packages (from requests>=2.31->yfinance) (3.4.1)\r\n",
      "Requirement already satisfied: idna<4,>=2.5 in /home/rafa/Documents/College/.venv/lib/python3.9/site-packages (from requests>=2.31->yfinance) (3.10)\r\n",
      "Requirement already satisfied: urllib3<3,>=1.21.1 in /home/rafa/Documents/College/.venv/lib/python3.9/site-packages (from requests>=2.31->yfinance) (2.3.0)\r\n",
      "Requirement already satisfied: certifi>=2017.4.17 in /home/rafa/Documents/College/.venv/lib/python3.9/site-packages (from requests>=2.31->yfinance) (2025.1.31)\r\n",
      "Requirement already satisfied: six>=1.5 in /home/rafa/Documents/College/.venv/lib/python3.9/site-packages (from python-dateutil>=2.8.2->pandas>=1.3.0->yfinance) (1.17.0)\r\n",
      "\r\n",
      "\u001B[1m[\u001B[0m\u001B[34;49mnotice\u001B[0m\u001B[1;39;49m]\u001B[0m\u001B[39;49m A new release of pip is available: \u001B[0m\u001B[31;49m23.2.1\u001B[0m\u001B[39;49m -> \u001B[0m\u001B[32;49m25.0.1\u001B[0m\r\n",
      "\u001B[1m[\u001B[0m\u001B[34;49mnotice\u001B[0m\u001B[1;39;49m]\u001B[0m\u001B[39;49m To update, run: \u001B[0m\u001B[32;49mpip install --upgrade pip\u001B[0m\r\n",
      "Licensed to Bundle #7012.7503 expiring 20250531: AI Driven Decision Making H9AIDM, Ade Fajemisin, National College of Ireland.\n"
     ]
    },
    {
     "name": "stderr",
     "output_type": "stream",
     "text": [
      "sh: warning: setlocale: LC_ALL: cannot change locale (en_US.UTF-8): No such file or directory\n",
      "sh: warning: setlocale: LC_ALL: cannot change locale (en_US.UTF-8): No such file or directory\n",
      "sh: warning: setlocale: LC_ALL: cannot change locale (en_US.UTF-8): No such file or directory\n"
     ]
    }
   ],
   "execution_count": 1
  },
  {
   "metadata": {},
   "cell_type": "markdown",
   "source": [
    "## data retrival\n",
    "gets the sp100's stocks' adjusted closing price"
   ],
   "id": "a997d050f0aab811"
  },
  {
   "metadata": {
    "ExecuteTime": {
     "end_time": "2025-04-13T07:23:27.290158Z",
     "start_time": "2025-04-13T07:23:24.681399Z"
    }
   },
   "cell_type": "code",
   "source": [
    "sp100 = [\n",
    "    \"AAPL\", \"ABBV\", \"ABT\", \"ACN\", \"ADBE\", \"AIG\", \"AMD\", \"AMGN\", \"AMT\", \"AMZN\",\n",
    "    \"AVGO\", \"AXP\", \"BA\", \"BAC\", \"BK\", \"BKNG\", \"BLK\", \"BMY\", \"BRK-B\", \"C\",\n",
    "    \"CAT\", \"CHTR\", \"CL\", \"CMCSA\", \"COF\", \"COP\", \"COST\", \"CRM\", \"CSCO\", \"CVS\",\n",
    "    \"CVX\", \"DE\", \"DHR\", \"DIS\", \"DUK\", \"EMR\", \"FDX\", \"GD\", \"GE\", \"GILD\", \"GM\",\n",
    "    \"GOOG\", \"GOOGL\", \"GS\", \"HD\", \"HON\", \"IBM\", \"INTC\", \"INTU\", \"ISRG\", \"JNJ\",\n",
    "    \"JPM\", \"KO\", \"LIN\", \"LLY\", \"LMT\", \"LOW\", \"MA\", \"MCD\", \"MDLZ\", \"MDT\",\n",
    "    \"MET\", \"META\", \"MMM\", \"MO\", \"MRK\", \"MS\", \"MSFT\", \"NEE\", \"NFLX\", \"NKE\",\n",
    "    \"NOW\", \"NVDA\", \"ORCL\", \"PEP\", \"PFE\", \"PG\", \"PLTR\", \"PM\", \"PYPL\", \"QCOM\",\n",
    "    \"RTX\", \"SBUX\", \"SCHW\", \"SO\", \"SPG\", \"T\", \"TGT\", \"TMO\", \"TMUS\", \"TSLA\",\n",
    "    \"TXN\", \"UNH\", \"UNP\", \"UPS\", \"USB\", \"V\", \"VZ\", \"WFC\", \"WMT\", \"XOM\"\n",
    "]\n",
    "\n",
    "# this is where you can adjust the date to make q1, q2, q3 ,q4 q1-q4, etc\n",
    "closings = yf.download(sp100,group_by='column', start='2024-03-01', end='2025-03-01')['Close']\n",
    "closings.head()"
   ],
   "id": "6aaedd5feacd8e34",
   "outputs": [
    {
     "name": "stdout",
     "output_type": "stream",
     "text": [
      "YF.download() has changed argument auto_adjust default to True\n"
     ]
    },
    {
     "name": "stderr",
     "output_type": "stream",
     "text": [
      "[*********************100%***********************]  101 of 101 completed\n"
     ]
    },
    {
     "data": {
      "text/plain": [
       "Ticker            AAPL        ABBV         ABT         ACN        ADBE  \\\n",
       "Date                                                                     \n",
       "2024-03-01  178.815674  172.621811  116.250908  376.331512  570.929993   \n",
       "2024-03-04  174.277100  170.827179  117.642548  379.018250  567.940002   \n",
       "2024-03-05  169.320496  172.863022  116.113708  372.271820  544.840027   \n",
       "2024-03-06  168.325180  174.696228  116.956520  376.173492  543.090027   \n",
       "2024-03-07  168.205765  174.223465  118.504967  382.179138  556.039978   \n",
       "\n",
       "Ticker            AIG         AMD        AMGN         AMT        AMZN  ...  \\\n",
       "Date                                                                   ...   \n",
       "2024-03-01  70.971916  202.639999  272.037415  193.558868  178.220001  ...   \n",
       "2024-03-04  71.293457  205.360001  271.125244  197.770432  177.580002  ...   \n",
       "2024-03-05  72.024231  205.130005  268.466309  197.070099  174.119995  ...   \n",
       "2024-03-06  72.930367  210.630005  268.408051  197.636108  173.509995  ...   \n",
       "2024-03-07  72.803703  211.380005  264.788361  196.408142  176.820007  ...   \n",
       "\n",
       "Ticker             TXN         UNH         UNP         UPS        USB  \\\n",
       "Date                                                                    \n",
       "2024-03-01  166.393494  479.932556  247.418365  140.815643  39.120407   \n",
       "2024-03-04  167.745697  472.422760  247.897598  143.240891  40.329346   \n",
       "2024-03-05  165.994659  463.873749  248.122513  142.337372  40.848804   \n",
       "2024-03-06  167.191177  463.334534  245.481903  145.085953  40.697689   \n",
       "2024-03-07  170.498642  469.393341  243.564972  145.903870  40.933811   \n",
       "\n",
       "Ticker               V         VZ        WFC        WMT         XOM  \n",
       "Date                                                                 \n",
       "2024-03-01  281.063080  37.061592  53.753578  57.905014  102.384125  \n",
       "2024-03-04  278.452576  37.163002  54.485786  58.437164  100.952461  \n",
       "2024-03-05  277.311127  37.199886  55.257034  59.166397  102.190666  \n",
       "2024-03-06  278.353302  36.812675  55.754936  59.688683  103.283768  \n",
       "2024-03-07  276.199371  36.443893  55.647545  59.481739  103.864189  \n",
       "\n",
       "[5 rows x 101 columns]"
      ],
      "text/html": [
       "<div>\n",
       "<style scoped>\n",
       "    .dataframe tbody tr th:only-of-type {\n",
       "        vertical-align: middle;\n",
       "    }\n",
       "\n",
       "    .dataframe tbody tr th {\n",
       "        vertical-align: top;\n",
       "    }\n",
       "\n",
       "    .dataframe thead th {\n",
       "        text-align: right;\n",
       "    }\n",
       "</style>\n",
       "<table border=\"1\" class=\"dataframe\">\n",
       "  <thead>\n",
       "    <tr style=\"text-align: right;\">\n",
       "      <th>Ticker</th>\n",
       "      <th>AAPL</th>\n",
       "      <th>ABBV</th>\n",
       "      <th>ABT</th>\n",
       "      <th>ACN</th>\n",
       "      <th>ADBE</th>\n",
       "      <th>AIG</th>\n",
       "      <th>AMD</th>\n",
       "      <th>AMGN</th>\n",
       "      <th>AMT</th>\n",
       "      <th>AMZN</th>\n",
       "      <th>...</th>\n",
       "      <th>TXN</th>\n",
       "      <th>UNH</th>\n",
       "      <th>UNP</th>\n",
       "      <th>UPS</th>\n",
       "      <th>USB</th>\n",
       "      <th>V</th>\n",
       "      <th>VZ</th>\n",
       "      <th>WFC</th>\n",
       "      <th>WMT</th>\n",
       "      <th>XOM</th>\n",
       "    </tr>\n",
       "    <tr>\n",
       "      <th>Date</th>\n",
       "      <th></th>\n",
       "      <th></th>\n",
       "      <th></th>\n",
       "      <th></th>\n",
       "      <th></th>\n",
       "      <th></th>\n",
       "      <th></th>\n",
       "      <th></th>\n",
       "      <th></th>\n",
       "      <th></th>\n",
       "      <th></th>\n",
       "      <th></th>\n",
       "      <th></th>\n",
       "      <th></th>\n",
       "      <th></th>\n",
       "      <th></th>\n",
       "      <th></th>\n",
       "      <th></th>\n",
       "      <th></th>\n",
       "      <th></th>\n",
       "      <th></th>\n",
       "    </tr>\n",
       "  </thead>\n",
       "  <tbody>\n",
       "    <tr>\n",
       "      <th>2024-03-01</th>\n",
       "      <td>178.815674</td>\n",
       "      <td>172.621811</td>\n",
       "      <td>116.250908</td>\n",
       "      <td>376.331512</td>\n",
       "      <td>570.929993</td>\n",
       "      <td>70.971916</td>\n",
       "      <td>202.639999</td>\n",
       "      <td>272.037415</td>\n",
       "      <td>193.558868</td>\n",
       "      <td>178.220001</td>\n",
       "      <td>...</td>\n",
       "      <td>166.393494</td>\n",
       "      <td>479.932556</td>\n",
       "      <td>247.418365</td>\n",
       "      <td>140.815643</td>\n",
       "      <td>39.120407</td>\n",
       "      <td>281.063080</td>\n",
       "      <td>37.061592</td>\n",
       "      <td>53.753578</td>\n",
       "      <td>57.905014</td>\n",
       "      <td>102.384125</td>\n",
       "    </tr>\n",
       "    <tr>\n",
       "      <th>2024-03-04</th>\n",
       "      <td>174.277100</td>\n",
       "      <td>170.827179</td>\n",
       "      <td>117.642548</td>\n",
       "      <td>379.018250</td>\n",
       "      <td>567.940002</td>\n",
       "      <td>71.293457</td>\n",
       "      <td>205.360001</td>\n",
       "      <td>271.125244</td>\n",
       "      <td>197.770432</td>\n",
       "      <td>177.580002</td>\n",
       "      <td>...</td>\n",
       "      <td>167.745697</td>\n",
       "      <td>472.422760</td>\n",
       "      <td>247.897598</td>\n",
       "      <td>143.240891</td>\n",
       "      <td>40.329346</td>\n",
       "      <td>278.452576</td>\n",
       "      <td>37.163002</td>\n",
       "      <td>54.485786</td>\n",
       "      <td>58.437164</td>\n",
       "      <td>100.952461</td>\n",
       "    </tr>\n",
       "    <tr>\n",
       "      <th>2024-03-05</th>\n",
       "      <td>169.320496</td>\n",
       "      <td>172.863022</td>\n",
       "      <td>116.113708</td>\n",
       "      <td>372.271820</td>\n",
       "      <td>544.840027</td>\n",
       "      <td>72.024231</td>\n",
       "      <td>205.130005</td>\n",
       "      <td>268.466309</td>\n",
       "      <td>197.070099</td>\n",
       "      <td>174.119995</td>\n",
       "      <td>...</td>\n",
       "      <td>165.994659</td>\n",
       "      <td>463.873749</td>\n",
       "      <td>248.122513</td>\n",
       "      <td>142.337372</td>\n",
       "      <td>40.848804</td>\n",
       "      <td>277.311127</td>\n",
       "      <td>37.199886</td>\n",
       "      <td>55.257034</td>\n",
       "      <td>59.166397</td>\n",
       "      <td>102.190666</td>\n",
       "    </tr>\n",
       "    <tr>\n",
       "      <th>2024-03-06</th>\n",
       "      <td>168.325180</td>\n",
       "      <td>174.696228</td>\n",
       "      <td>116.956520</td>\n",
       "      <td>376.173492</td>\n",
       "      <td>543.090027</td>\n",
       "      <td>72.930367</td>\n",
       "      <td>210.630005</td>\n",
       "      <td>268.408051</td>\n",
       "      <td>197.636108</td>\n",
       "      <td>173.509995</td>\n",
       "      <td>...</td>\n",
       "      <td>167.191177</td>\n",
       "      <td>463.334534</td>\n",
       "      <td>245.481903</td>\n",
       "      <td>145.085953</td>\n",
       "      <td>40.697689</td>\n",
       "      <td>278.353302</td>\n",
       "      <td>36.812675</td>\n",
       "      <td>55.754936</td>\n",
       "      <td>59.688683</td>\n",
       "      <td>103.283768</td>\n",
       "    </tr>\n",
       "    <tr>\n",
       "      <th>2024-03-07</th>\n",
       "      <td>168.205765</td>\n",
       "      <td>174.223465</td>\n",
       "      <td>118.504967</td>\n",
       "      <td>382.179138</td>\n",
       "      <td>556.039978</td>\n",
       "      <td>72.803703</td>\n",
       "      <td>211.380005</td>\n",
       "      <td>264.788361</td>\n",
       "      <td>196.408142</td>\n",
       "      <td>176.820007</td>\n",
       "      <td>...</td>\n",
       "      <td>170.498642</td>\n",
       "      <td>469.393341</td>\n",
       "      <td>243.564972</td>\n",
       "      <td>145.903870</td>\n",
       "      <td>40.933811</td>\n",
       "      <td>276.199371</td>\n",
       "      <td>36.443893</td>\n",
       "      <td>55.647545</td>\n",
       "      <td>59.481739</td>\n",
       "      <td>103.864189</td>\n",
       "    </tr>\n",
       "  </tbody>\n",
       "</table>\n",
       "<p>5 rows × 101 columns</p>\n",
       "</div>"
      ]
     },
     "execution_count": 2,
     "metadata": {},
     "output_type": "execute_result"
    }
   ],
   "execution_count": 2
  },
  {
   "metadata": {},
   "cell_type": "markdown",
   "source": "translate to fractional change",
   "id": "3028445a93de54ec"
  },
  {
   "metadata": {
    "ExecuteTime": {
     "end_time": "2025-04-13T07:23:27.563427Z",
     "start_time": "2025-04-13T07:23:27.501368Z"
    }
   },
   "cell_type": "code",
   "source": [
    "day_stock_returns_daily = closings.pct_change().fillna(0)\n",
    "day_stock_returns_daily.head() # day x stock"
   ],
   "id": "9b518f26dead8e3",
   "outputs": [
    {
     "data": {
      "text/plain": [
       "Ticker          AAPL      ABBV       ABT       ACN      ADBE       AIG  \\\n",
       "Date                                                                     \n",
       "2024-03-01  0.000000  0.000000  0.000000  0.000000  0.000000  0.000000   \n",
       "2024-03-04 -0.025381 -0.010396  0.011971  0.007139 -0.005237  0.004531   \n",
       "2024-03-05 -0.028441  0.011918 -0.012996 -0.017800 -0.040673  0.010250   \n",
       "2024-03-06 -0.005878  0.010605  0.007259  0.010481 -0.003212  0.012581   \n",
       "2024-03-07 -0.000709 -0.002706  0.013240  0.015965  0.023845 -0.001737   \n",
       "\n",
       "Ticker           AMD      AMGN       AMT      AMZN  ...       TXN       UNH  \\\n",
       "Date                                                ...                       \n",
       "2024-03-01  0.000000  0.000000  0.000000  0.000000  ...  0.000000  0.000000   \n",
       "2024-03-04  0.013423 -0.003353  0.021759 -0.003591  ...  0.008127 -0.015648   \n",
       "2024-03-05 -0.001120 -0.009807 -0.003541 -0.019484  ... -0.010439 -0.018096   \n",
       "2024-03-06  0.026812 -0.000217  0.002872 -0.003503  ...  0.007208 -0.001162   \n",
       "2024-03-07  0.003561 -0.013486 -0.006213  0.019077  ...  0.019783  0.013077   \n",
       "\n",
       "Ticker           UNP       UPS       USB         V        VZ       WFC  \\\n",
       "Date                                                                     \n",
       "2024-03-01  0.000000  0.000000  0.000000  0.000000  0.000000  0.000000   \n",
       "2024-03-04  0.001937  0.017223  0.030903 -0.009288  0.002736  0.013622   \n",
       "2024-03-05  0.000907 -0.006308  0.012880 -0.004099  0.000993  0.014155   \n",
       "2024-03-06 -0.010642  0.019310 -0.003699  0.003758 -0.010409  0.009011   \n",
       "2024-03-07 -0.007809  0.005637  0.005802 -0.007738 -0.010018 -0.001926   \n",
       "\n",
       "Ticker           WMT       XOM  \n",
       "Date                            \n",
       "2024-03-01  0.000000  0.000000  \n",
       "2024-03-04  0.009190 -0.013983  \n",
       "2024-03-05  0.012479  0.012265  \n",
       "2024-03-06  0.008827  0.010697  \n",
       "2024-03-07 -0.003467  0.005620  \n",
       "\n",
       "[5 rows x 101 columns]"
      ],
      "text/html": [
       "<div>\n",
       "<style scoped>\n",
       "    .dataframe tbody tr th:only-of-type {\n",
       "        vertical-align: middle;\n",
       "    }\n",
       "\n",
       "    .dataframe tbody tr th {\n",
       "        vertical-align: top;\n",
       "    }\n",
       "\n",
       "    .dataframe thead th {\n",
       "        text-align: right;\n",
       "    }\n",
       "</style>\n",
       "<table border=\"1\" class=\"dataframe\">\n",
       "  <thead>\n",
       "    <tr style=\"text-align: right;\">\n",
       "      <th>Ticker</th>\n",
       "      <th>AAPL</th>\n",
       "      <th>ABBV</th>\n",
       "      <th>ABT</th>\n",
       "      <th>ACN</th>\n",
       "      <th>ADBE</th>\n",
       "      <th>AIG</th>\n",
       "      <th>AMD</th>\n",
       "      <th>AMGN</th>\n",
       "      <th>AMT</th>\n",
       "      <th>AMZN</th>\n",
       "      <th>...</th>\n",
       "      <th>TXN</th>\n",
       "      <th>UNH</th>\n",
       "      <th>UNP</th>\n",
       "      <th>UPS</th>\n",
       "      <th>USB</th>\n",
       "      <th>V</th>\n",
       "      <th>VZ</th>\n",
       "      <th>WFC</th>\n",
       "      <th>WMT</th>\n",
       "      <th>XOM</th>\n",
       "    </tr>\n",
       "    <tr>\n",
       "      <th>Date</th>\n",
       "      <th></th>\n",
       "      <th></th>\n",
       "      <th></th>\n",
       "      <th></th>\n",
       "      <th></th>\n",
       "      <th></th>\n",
       "      <th></th>\n",
       "      <th></th>\n",
       "      <th></th>\n",
       "      <th></th>\n",
       "      <th></th>\n",
       "      <th></th>\n",
       "      <th></th>\n",
       "      <th></th>\n",
       "      <th></th>\n",
       "      <th></th>\n",
       "      <th></th>\n",
       "      <th></th>\n",
       "      <th></th>\n",
       "      <th></th>\n",
       "      <th></th>\n",
       "    </tr>\n",
       "  </thead>\n",
       "  <tbody>\n",
       "    <tr>\n",
       "      <th>2024-03-01</th>\n",
       "      <td>0.000000</td>\n",
       "      <td>0.000000</td>\n",
       "      <td>0.000000</td>\n",
       "      <td>0.000000</td>\n",
       "      <td>0.000000</td>\n",
       "      <td>0.000000</td>\n",
       "      <td>0.000000</td>\n",
       "      <td>0.000000</td>\n",
       "      <td>0.000000</td>\n",
       "      <td>0.000000</td>\n",
       "      <td>...</td>\n",
       "      <td>0.000000</td>\n",
       "      <td>0.000000</td>\n",
       "      <td>0.000000</td>\n",
       "      <td>0.000000</td>\n",
       "      <td>0.000000</td>\n",
       "      <td>0.000000</td>\n",
       "      <td>0.000000</td>\n",
       "      <td>0.000000</td>\n",
       "      <td>0.000000</td>\n",
       "      <td>0.000000</td>\n",
       "    </tr>\n",
       "    <tr>\n",
       "      <th>2024-03-04</th>\n",
       "      <td>-0.025381</td>\n",
       "      <td>-0.010396</td>\n",
       "      <td>0.011971</td>\n",
       "      <td>0.007139</td>\n",
       "      <td>-0.005237</td>\n",
       "      <td>0.004531</td>\n",
       "      <td>0.013423</td>\n",
       "      <td>-0.003353</td>\n",
       "      <td>0.021759</td>\n",
       "      <td>-0.003591</td>\n",
       "      <td>...</td>\n",
       "      <td>0.008127</td>\n",
       "      <td>-0.015648</td>\n",
       "      <td>0.001937</td>\n",
       "      <td>0.017223</td>\n",
       "      <td>0.030903</td>\n",
       "      <td>-0.009288</td>\n",
       "      <td>0.002736</td>\n",
       "      <td>0.013622</td>\n",
       "      <td>0.009190</td>\n",
       "      <td>-0.013983</td>\n",
       "    </tr>\n",
       "    <tr>\n",
       "      <th>2024-03-05</th>\n",
       "      <td>-0.028441</td>\n",
       "      <td>0.011918</td>\n",
       "      <td>-0.012996</td>\n",
       "      <td>-0.017800</td>\n",
       "      <td>-0.040673</td>\n",
       "      <td>0.010250</td>\n",
       "      <td>-0.001120</td>\n",
       "      <td>-0.009807</td>\n",
       "      <td>-0.003541</td>\n",
       "      <td>-0.019484</td>\n",
       "      <td>...</td>\n",
       "      <td>-0.010439</td>\n",
       "      <td>-0.018096</td>\n",
       "      <td>0.000907</td>\n",
       "      <td>-0.006308</td>\n",
       "      <td>0.012880</td>\n",
       "      <td>-0.004099</td>\n",
       "      <td>0.000993</td>\n",
       "      <td>0.014155</td>\n",
       "      <td>0.012479</td>\n",
       "      <td>0.012265</td>\n",
       "    </tr>\n",
       "    <tr>\n",
       "      <th>2024-03-06</th>\n",
       "      <td>-0.005878</td>\n",
       "      <td>0.010605</td>\n",
       "      <td>0.007259</td>\n",
       "      <td>0.010481</td>\n",
       "      <td>-0.003212</td>\n",
       "      <td>0.012581</td>\n",
       "      <td>0.026812</td>\n",
       "      <td>-0.000217</td>\n",
       "      <td>0.002872</td>\n",
       "      <td>-0.003503</td>\n",
       "      <td>...</td>\n",
       "      <td>0.007208</td>\n",
       "      <td>-0.001162</td>\n",
       "      <td>-0.010642</td>\n",
       "      <td>0.019310</td>\n",
       "      <td>-0.003699</td>\n",
       "      <td>0.003758</td>\n",
       "      <td>-0.010409</td>\n",
       "      <td>0.009011</td>\n",
       "      <td>0.008827</td>\n",
       "      <td>0.010697</td>\n",
       "    </tr>\n",
       "    <tr>\n",
       "      <th>2024-03-07</th>\n",
       "      <td>-0.000709</td>\n",
       "      <td>-0.002706</td>\n",
       "      <td>0.013240</td>\n",
       "      <td>0.015965</td>\n",
       "      <td>0.023845</td>\n",
       "      <td>-0.001737</td>\n",
       "      <td>0.003561</td>\n",
       "      <td>-0.013486</td>\n",
       "      <td>-0.006213</td>\n",
       "      <td>0.019077</td>\n",
       "      <td>...</td>\n",
       "      <td>0.019783</td>\n",
       "      <td>0.013077</td>\n",
       "      <td>-0.007809</td>\n",
       "      <td>0.005637</td>\n",
       "      <td>0.005802</td>\n",
       "      <td>-0.007738</td>\n",
       "      <td>-0.010018</td>\n",
       "      <td>-0.001926</td>\n",
       "      <td>-0.003467</td>\n",
       "      <td>0.005620</td>\n",
       "    </tr>\n",
       "  </tbody>\n",
       "</table>\n",
       "<p>5 rows × 101 columns</p>\n",
       "</div>"
      ]
     },
     "execution_count": 3,
     "metadata": {},
     "output_type": "execute_result"
    }
   ],
   "execution_count": 3
  },
  {
   "metadata": {},
   "cell_type": "markdown",
   "source": [
    "make benchmark\n",
    "\n",
    "this assumes the sp100 index is non weighed"
   ],
   "id": "181cf0931d591984"
  },
  {
   "metadata": {
    "ExecuteTime": {
     "end_time": "2025-04-13T07:23:27.685116Z",
     "start_time": "2025-04-13T07:23:27.671357Z"
    }
   },
   "cell_type": "code",
   "source": [
    "day_mean_return = day_stock_returns_daily.mean(axis=1)\n",
    "day_mean_return.head() # day x mean"
   ],
   "id": "c75718922cbfc08f",
   "outputs": [
    {
     "data": {
      "text/plain": [
       "Date\n",
       "2024-03-01    0.000000\n",
       "2024-03-04   -0.000046\n",
       "2024-03-05   -0.004963\n",
       "2024-03-06    0.006040\n",
       "2024-03-07    0.006214\n",
       "dtype: float64"
      ]
     },
     "execution_count": 4,
     "metadata": {},
     "output_type": "execute_result"
    }
   ],
   "execution_count": 4
  },
  {
   "metadata": {},
   "cell_type": "markdown",
   "source": "definitions and constants",
   "id": "5050dcd7acc04973"
  },
  {
   "metadata": {
    "ExecuteTime": {
     "end_time": "2025-04-13T07:23:28.040434Z",
     "start_time": "2025-04-13T07:23:28.035303Z"
    }
   },
   "cell_type": "code",
   "source": [
    "q = 3  # nr of desired stocks\n",
    "\n",
    "stocks = range(len(sp100)) # map the code to an integer\n",
    "time_periods = range(len(day_stock_returns_daily)) # map the day to an integer\n",
    "\n",
    "# data for ampl\n",
    "stock_day_returns_daily = day_stock_returns_daily.values.T  # stocks x day\n",
    "day_mean_return_array = day_mean_return.values"
   ],
   "id": "99b5940ed648013d",
   "outputs": [],
   "execution_count": 5
  },
  {
   "metadata": {
    "ExecuteTime": {
     "end_time": "2025-04-13T07:23:28.114324Z",
     "start_time": "2025-04-13T07:23:28.110158Z"
    }
   },
   "cell_type": "code",
   "source": "",
   "id": "de0a48ef83b2f41c",
   "outputs": [],
   "execution_count": null
  },
  {
   "metadata": {
    "ExecuteTime": {
     "end_time": "2025-04-13T07:23:49.099573Z",
     "start_time": "2025-04-13T07:23:28.249541Z"
    }
   },
   "cell_type": "code",
   "source": [
    "# init ampl\n",
    "ampl = AMPL(Environment())\n",
    "ampl.setOption('solver', 'gurobi')  # or 'cplex', 'ipopt', etc.\n",
    "\n",
    "ampl.eval(\"\"\"\n",
    "set STOCKS;\n",
    "set TIME;\n",
    "\n",
    "param returns{STOCKS, TIME};\n",
    "param day_mean_return_array{TIME};\n",
    "param q;\n",
    "\n",
    "var w{STOCKS} >= 0;  # weights of selected\n",
    "var y{STOCKS} binary; # selected? bool\n",
    "\n",
    "minimize tracking_error:\n",
    "    sum{t in TIME} (sum{s in STOCKS} (w[s] * returns[s,t]) - day_mean_return_array[t])^2; # tracking error function - quadratic!!!!\n",
    "\n",
    "subject to sum_weights:\n",
    "    sum{s in STOCKS} w[s] = 1; # weights have to sum up to 1\n",
    "\n",
    "subject to select_q_stocks:\n",
    "    sum{s in STOCKS} y[s] = q; # there must be q selected\n",
    "\n",
    "subject to linking_constraint{s in STOCKS}:\n",
    "    w[s] <= y[s];  # selection means weight\n",
    "\n",
    "\"\"\")\n",
    "\n",
    "ampl.set['STOCKS'] = list(stocks)\n",
    "ampl.set['TIME'] = list(time_periods)\n",
    "ampl.param['returns'] = {(s, t): stock_day_returns_daily[s][t] for s in stocks for t in time_periods}\n",
    "ampl.param['day_mean_return_array'] = {t: day_mean_return_array[t] for t in time_periods}\n",
    "ampl.param['q'] = q\n",
    "\n",
    "ampl.solve()"
   ],
   "id": "c1529e2d28dbc13a",
   "outputs": [
    {
     "name": "stderr",
     "output_type": "stream",
     "text": [
      "sh: warning: setlocale: LC_ALL: cannot change locale (en_US.UTF-8): No such file or directory\n",
      "sh: warning: setlocale: LC_ALL: cannot change locale (en_US.UTF-8): No such file or directory\n"
     ]
    },
    {
     "name": "stdout",
     "output_type": "stream",
     "text": [
      "Gurobi 12.0.1: Error: invalid user locale; possible fix is to set the system environment\n",
      "       variable 'LC_ALL' to a valid locale (e.g., to 'C')\n",
      "Gurobi 12.0.1: optimal solution; objective 0.004677326431\n",
      "915483 simplex iterations\n",
      "152219 branching nodes\n",
      "absmipgap=1.73472e-18, relmipgap=0\n"
     ]
    }
   ],
   "execution_count": 6
  },
  {
   "metadata": {},
   "cell_type": "markdown",
   "source": "display",
   "id": "eaeef26c2a1444cc"
  },
  {
   "metadata": {
    "ExecuteTime": {
     "end_time": "2025-04-13T07:23:49.157391Z",
     "start_time": "2025-04-13T07:23:49.145488Z"
    }
   },
   "cell_type": "code",
   "source": [
    "results = {\n",
    "    sp100[s]: w for s, w in filter(lambda w: w[1] > 0, ampl.getVariable('w').getValues().to_list())\n",
    "}\n",
    "\n",
    "results_2 = {\n",
    "    s: w for s, w in filter(lambda w: w[1] > 0, ampl.getVariable('w').getValues().to_list())\n",
    "}\n",
    "\n",
    "results"
   ],
   "id": "fc9434275a1242e8",
   "outputs": [
    {
     "data": {
      "text/plain": [
       "{'BRK-B': 0.4904752418169708,\n",
       " 'LOW': 0.2444416019683749,\n",
       " 'MSFT': 0.2650831562146542}"
      ]
     },
     "execution_count": 7,
     "metadata": {},
     "output_type": "execute_result"
    }
   ],
   "execution_count": 7
  },
  {
   "metadata": {},
   "cell_type": "markdown",
   "source": "## evaluation",
   "id": "565f1d34b4ba85c9"
  },
  {
   "metadata": {
    "ExecuteTime": {
     "end_time": "2025-04-13T07:23:49.229318Z",
     "start_time": "2025-04-13T07:23:49.207562Z"
    }
   },
   "cell_type": "code",
   "source": [
    "weights2 = {\n",
    "    s: w for s, w in filter(lambda w: w[1] > 0, ampl.getVariable('w').getValues().to_list())\n",
    "}\n",
    "\n",
    "selected_stocks_idx = weights2.keys()\n",
    "selected_stocks_name = [sp100[i] for i in selected_stocks_idx]\n",
    "selected_weights = [weights2[s] for s in selected_stocks_idx]\n",
    "\n",
    "# apply the portfolio factor in a daily basis to the daily retuns\n",
    "\n",
    "portfolio_returns = pd.Series(\n",
    "    [\n",
    "        sum(stock_day_returns_daily[s][t] * weights2[s] for s in selected_stocks_idx) for t in time_periods\n",
    "    ],\n",
    "    index=day_stock_returns_daily.index\n",
    ")\n",
    "portfolio_returns"
   ],
   "id": "ec132ef728563311",
   "outputs": [
    {
     "data": {
      "text/plain": [
       "Date\n",
       "2024-03-01    0.000000\n",
       "2024-03-04   -0.007439\n",
       "2024-03-05   -0.012354\n",
       "2024-03-06    0.003877\n",
       "2024-03-07    0.003350\n",
       "                ...   \n",
       "2025-02-24    0.015292\n",
       "2025-02-25    0.002850\n",
       "2025-02-26    0.000326\n",
       "2025-02-27    0.001921\n",
       "2025-02-28    0.017287\n",
       "Length: 250, dtype: float64"
      ]
     },
     "execution_count": 8,
     "metadata": {},
     "output_type": "execute_result"
    }
   ],
   "execution_count": 8
  },
  {
   "metadata": {},
   "cell_type": "markdown",
   "source": "## correlation coefficient",
   "id": "14706f01a823717f"
  },
  {
   "metadata": {
    "ExecuteTime": {
     "end_time": "2025-04-13T07:23:49.372656Z",
     "start_time": "2025-04-13T07:23:49.365459Z"
    }
   },
   "cell_type": "code",
   "source": [
    "correlation = np.corrcoef(portfolio_returns, day_mean_return_array)\n",
    "correlation"
   ],
   "id": "2b2fdbcc29bfc474",
   "outputs": [
    {
     "data": {
      "text/plain": [
       "array([[1.       , 0.8356634],\n",
       "       [0.8356634, 1.       ]])"
      ]
     },
     "execution_count": 9,
     "metadata": {},
     "output_type": "execute_result"
    }
   ],
   "execution_count": 9
  },
  {
   "metadata": {},
   "cell_type": "markdown",
   "source": [
    "83% correlation\n",
    "## tracking error\n",
    "compare"
   ],
   "id": "a82b68a7d4e09456"
  },
  {
   "metadata": {
    "ExecuteTime": {
     "end_time": "2025-04-13T07:23:49.518989Z",
     "start_time": "2025-04-13T07:23:49.509369Z"
    }
   },
   "cell_type": "code",
   "source": [
    "tracking_error = np.sqrt( # root mean squared error (to get original units)\n",
    "    np.mean( # mean squared error\n",
    "        (portfolio_returns - day_mean_return_array)**2 # squared error\n",
    "    )\n",
    ")"
   ],
   "id": "3fd6ad6517ae6b75",
   "outputs": [],
   "execution_count": 10
  },
  {
   "metadata": {
    "ExecuteTime": {
     "end_time": "2025-04-13T07:29:53.241012Z",
     "start_time": "2025-04-13T07:29:53.235543Z"
    }
   },
   "cell_type": "code",
   "source": [
    "for si, w in weights2.items():\n",
    "    print(f\"{sp100[si]}: {w:.4f}\")\n",
    "\n",
    "print(f\"correlation with sp100: {correlation[0, 1]:.4f}\")\n",
    "print(f\"tracking error: {tracking_error:.4f}\")"
   ],
   "id": "aae7f80fdc4c9d61",
   "outputs": [
    {
     "name": "stdout",
     "output_type": "stream",
     "text": [
      "BRK-B: 0.4905\n",
      "LOW: 0.2444\n",
      "MSFT: 0.2651\n",
      "correlation with sp100: 0.8357\n",
      "tracking error: 0.0043\n"
     ]
    }
   ],
   "execution_count": 13
  },
  {
   "metadata": {},
   "cell_type": "markdown",
   "source": [
    "## plot\n",
    "side by side cumulative return comparison against the benchmark"
   ],
   "id": "59820d25a92aa439"
  },
  {
   "metadata": {
    "ExecuteTime": {
     "end_time": "2025-04-13T07:23:50.074522Z",
     "start_time": "2025-04-13T07:23:49.732231Z"
    }
   },
   "cell_type": "code",
   "source": [
    "cumulative_index = (1 + day_mean_return).cumprod()\n",
    "cumulative_portfolio = (1 + portfolio_returns).cumprod()\n",
    "\n",
    "plt.figure(figsize=(12, 6))\n",
    "plt.plot(cumulative_index, label='sp100')\n",
    "plt.plot(cumulative_portfolio, label=','.join([sp100[s] for s in weights2.keys()]))\n",
    "plt.xlabel('date')\n",
    "plt.ylabel('cumulative return')\n",
    "plt.legend()\n",
    "plt.grid(True)\n",
    "plt.show()"
   ],
   "id": "34a7e6397379f9f7",
   "outputs": [
    {
     "data": {
      "text/plain": [
       "<Figure size 1200x600 with 1 Axes>"
      ],
      "image/png": "[encoded data removed]"
     },
     "metadata": {},
     "output_type": "display_data"
    }
   ],
   "execution_count": 12
  }
 ],
 "metadata": {
  "kernelspec": {
   "display_name": "Python 3",
   "language": "python",
   "name": "python3"
  },
  "language_info": {
   "codemirror_mode": {
    "name": "ipython",
    "version": 2
   },
   "file_extension": ".py",
   "mimetype": "text/x-python",
   "name": "python",
   "nbconvert_exporter": "python",
   "pygments_lexer": "ipython2",
   "version": "2.7.6"
  }
 },
 "nbformat": 4,
 "nbformat_minor": 5
}
