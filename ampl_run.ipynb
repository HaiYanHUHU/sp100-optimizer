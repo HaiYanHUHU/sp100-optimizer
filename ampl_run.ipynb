{
 "cells": [
  {
   "cell_type": "code",
   "execution_count": 17,
   "metadata": {},
   "outputs": [],
   "source": [
    "import pandas as pd\n",
    "from src.generate_ampl_data import generate_ampl_input_data"
   ]
  },
  {
   "cell_type": "code",
   "execution_count": 18,
   "metadata": {},
   "outputs": [
    {
     "name": "stdout",
     "output_type": "stream",
     "text": [
      "AMPL 数据文件已保存至：data/ampl/ampl_inputs.dat\n"
     ]
    }
   ],
   "source": [
    "# Loading returns data\n",
    "returns_df_raw = pd.read_csv(\"data/processed/returns_full.csv\", index_col=0)\n",
    "\n",
    "# Keep only columns that can be converted to float\n",
    "returns_df = returns_df_raw.apply(pd.to_numeric, errors='coerce')\n",
    "\n",
    "# Check if there are still Nans\n",
    "returns_df = returns_df.dropna(axis=1)\n",
    "\n",
    "# Load benchmark\n",
    "benchmark_df = pd.read_csv(\"data/processed/benchmark_returns.csv\", index_col=0)\n",
    "benchmark_series = benchmark_df.iloc[:, 0]\n",
    "benchmark_series = benchmark_series.iloc[:returns_df.shape[1]] \n",
    "\n",
    "# set q\n",
    "q = 10\n",
    "output_path = \"data/ampl/ampl_inputs.dat\"\n",
    "\n",
    "# .dat \n",
    "generate_ampl_input_data(returns_df, benchmark_series, q, output_path)"
   ]
  },
  {
   "cell_type": "code",
   "execution_count": 41,
   "metadata": {},
   "outputs": [
    {
     "name": "stdout",
     "output_type": "stream",
     "text": [
      "[AMPL STDOUT]:\n",
      "\n",
      "[AMPL STDERR]:\n",
      "\n",
      "Optimization results (Index → Weight):\n",
      "{}\n"
     ]
    }
   ],
   "source": [
    "from src.ampl_runner import run_ampl\n",
    "\n",
    "model_path = \"data/ampl/AMPL_model.mod\"\n",
    "data_path = \"data/ampl/ampl_inputs_clean.dat\" \n",
    "ampl_path = \"/System/Volumes/Data/Users/yhhu/Documents/mystudy/python/python01/.venv/lib/python3.12/site-packages/ampl_module_base/bin/ampl\"  \n",
    "\n",
    "weights = run_ampl(model_path, data_path, ampl_path)\n",
    "print(\"Optimization results (Index → Weight):\")\n",
    "print(weights)"
   ]
  },
  {
   "cell_type": "code",
   "execution_count": 39,
   "metadata": {},
   "outputs": [
    {
     "name": "stdout",
     "output_type": "stream",
     "text": [
      "x [*] :=\n",
      ";\n",
      "\n",
      "\n"
     ]
    }
   ],
   "source": [
    "with open(\"data/ampl/ampl_output.txt\") as f:\n",
    "    print(f.read()[:1000])\n"
   ]
  },
  {
   "cell_type": "code",
   "execution_count": null,
   "metadata": {},
   "outputs": [],
   "source": []
  },
  {
   "cell_type": "code",
   "execution_count": null,
   "metadata": {},
   "outputs": [],
   "source": []
  },
  {
   "cell_type": "code",
   "execution_count": null,
   "metadata": {},
   "outputs": [],
   "source": []
  }
 ],
 "metadata": {
  "kernelspec": {
   "display_name": "venv",
   "language": "python",
   "name": "python3"
  },
  "language_info": {
   "codemirror_mode": {
    "name": "ipython",
    "version": 3
   },
   "file_extension": ".py",
   "mimetype": "text/x-python",
   "name": "python",
   "nbconvert_exporter": "python",
   "pygments_lexer": "ipython3",
   "version": "3.12.7"
  }
 },
 "nbformat": 4,
 "nbformat_minor": 2
}
