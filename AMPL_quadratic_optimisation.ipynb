{
 "cells": [
  {
   "cell_type": "markdown",
   "id": "182635c2fce42983",
   "metadata": {},
   "source": [
    "## required libraries"
   ]
  },
  {
   "cell_type": "code",
   "execution_count": 15,
   "id": "b34826d08d4125d0",
   "metadata": {
    "ExecuteTime": {
     "end_time": "2025-04-14T13:30:51.114497Z",
     "start_time": "2025-04-14T13:30:49.516079Z"
    }
   },
   "outputs": [],
   "source": [
    "!pip install -q amplpy yfinance matplotlib"
   ]
  },
  {
   "cell_type": "markdown",
   "id": "b477755b25b0085d",
   "metadata": {},
   "source": [
    "## imports and setup"
   ]
  },
  {
   "cell_type": "code",
   "execution_count": 16,
   "id": "3d320da18a0d330c",
   "metadata": {
    "ExecuteTime": {
     "end_time": "2025-04-14T13:30:54.186821Z",
     "start_time": "2025-04-14T13:30:51.123045Z"
    }
   },
   "outputs": [
    {
     "name": "stdout",
     "output_type": "stream",
     "text": [
      "AMPL Development Version 20250318 (Darwin-22.6.0, 64-bit)\n",
      "Demo license with maintenance expiring 20270131.\n",
      "Using license file \"/Users/yhhu/Documents/course/2024/Artificial Intelligence Driven Decision Making/CA/CA2/DDM_code/sp100-optimizer/venv/lib/python3.12/site-packages/ampl_module_base/bin/ampl.lic\".\n",
      "\n"
     ]
    }
   ],
   "source": [
    "from amplpy import AMPL, ampl_notebook, Environment\n",
    "import yfinance as yf\n",
    "import matplotlib.pyplot as plt\n",
    "import pandas as pd\n",
    "import numpy as np\n",
    "import os\n",
    "import warnings\n",
    "\n",
    "warnings.filterwarnings('ignore')\n",
    "\n",
    "ampl = ampl_notebook(\n",
    "    modules=[\"highs\", \"cbc\", \"gurobi\", \"cplex\"],\n",
    "    license_uuid=os.getenv(\"AMPL_LICENSE_UUID\"), # or replace with a string with your own\n",
    ")"
   ]
  },
  {
   "cell_type": "markdown",
   "id": "a997d050f0aab811",
   "metadata": {},
   "source": [
    "## data retrival\n",
    "gets the sp100's stocks' adjusted closing price"
   ]
  },
  {
   "cell_type": "code",
   "execution_count": 17,
   "id": "6aaedd5feacd8e34",
   "metadata": {
    "ExecuteTime": {
     "end_time": "2025-04-14T13:30:56.446761Z",
     "start_time": "2025-04-14T13:30:54.227362Z"
    }
   },
   "outputs": [
    {
     "name": "stderr",
     "output_type": "stream",
     "text": [
      "[*********************100%***********************]  101 of 101 completed\n"
     ]
    },
    {
     "data": {
      "text/html": [
       "<div>\n",
       "<style scoped>\n",
       "    .dataframe tbody tr th:only-of-type {\n",
       "        vertical-align: middle;\n",
       "    }\n",
       "\n",
       "    .dataframe tbody tr th {\n",
       "        vertical-align: top;\n",
       "    }\n",
       "\n",
       "    .dataframe thead th {\n",
       "        text-align: right;\n",
       "    }\n",
       "</style>\n",
       "<table border=\"1\" class=\"dataframe\">\n",
       "  <thead>\n",
       "    <tr style=\"text-align: right;\">\n",
       "      <th>Ticker</th>\n",
       "      <th>AAPL</th>\n",
       "      <th>ABBV</th>\n",
       "      <th>ABT</th>\n",
       "      <th>ACN</th>\n",
       "      <th>ADBE</th>\n",
       "      <th>AIG</th>\n",
       "      <th>AMD</th>\n",
       "      <th>AMGN</th>\n",
       "      <th>AMT</th>\n",
       "      <th>AMZN</th>\n",
       "      <th>...</th>\n",
       "      <th>TXN</th>\n",
       "      <th>UNH</th>\n",
       "      <th>UNP</th>\n",
       "      <th>UPS</th>\n",
       "      <th>USB</th>\n",
       "      <th>V</th>\n",
       "      <th>VZ</th>\n",
       "      <th>WFC</th>\n",
       "      <th>WMT</th>\n",
       "      <th>XOM</th>\n",
       "    </tr>\n",
       "    <tr>\n",
       "      <th>Date</th>\n",
       "      <th></th>\n",
       "      <th></th>\n",
       "      <th></th>\n",
       "      <th></th>\n",
       "      <th></th>\n",
       "      <th></th>\n",
       "      <th></th>\n",
       "      <th></th>\n",
       "      <th></th>\n",
       "      <th></th>\n",
       "      <th></th>\n",
       "      <th></th>\n",
       "      <th></th>\n",
       "      <th></th>\n",
       "      <th></th>\n",
       "      <th></th>\n",
       "      <th></th>\n",
       "      <th></th>\n",
       "      <th></th>\n",
       "      <th></th>\n",
       "      <th></th>\n",
       "    </tr>\n",
       "  </thead>\n",
       "  <tbody>\n",
       "    <tr>\n",
       "      <th>2024-01-02</th>\n",
       "      <td>184.532089</td>\n",
       "      <td>152.743408</td>\n",
       "      <td>107.138481</td>\n",
       "      <td>341.431366</td>\n",
       "      <td>580.070007</td>\n",
       "      <td>67.074501</td>\n",
       "      <td>138.580002</td>\n",
       "      <td>286.354187</td>\n",
       "      <td>209.915833</td>\n",
       "      <td>149.929993</td>\n",
       "      <td>...</td>\n",
       "      <td>163.363098</td>\n",
       "      <td>528.766113</td>\n",
       "      <td>236.856384</td>\n",
       "      <td>148.922592</td>\n",
       "      <td>41.472164</td>\n",
       "      <td>256.474792</td>\n",
       "      <td>35.250214</td>\n",
       "      <td>47.823631</td>\n",
       "      <td>52.324093</td>\n",
       "      <td>98.106003</td>\n",
       "    </tr>\n",
       "    <tr>\n",
       "      <th>2024-01-03</th>\n",
       "      <td>183.150375</td>\n",
       "      <td>153.355072</td>\n",
       "      <td>106.816628</td>\n",
       "      <td>332.573730</td>\n",
       "      <td>571.789978</td>\n",
       "      <td>66.850395</td>\n",
       "      <td>135.320007</td>\n",
       "      <td>289.531738</td>\n",
       "      <td>205.963303</td>\n",
       "      <td>148.470001</td>\n",
       "      <td>...</td>\n",
       "      <td>160.930893</td>\n",
       "      <td>531.403320</td>\n",
       "      <td>235.173096</td>\n",
       "      <td>148.170181</td>\n",
       "      <td>40.376572</td>\n",
       "      <td>255.592987</td>\n",
       "      <td>35.504070</td>\n",
       "      <td>47.193470</td>\n",
       "      <td>52.327377</td>\n",
       "      <td>98.930252</td>\n",
       "    </tr>\n",
       "    <tr>\n",
       "      <th>2024-01-04</th>\n",
       "      <td>180.824356</td>\n",
       "      <td>154.310791</td>\n",
       "      <td>108.240593</td>\n",
       "      <td>331.756866</td>\n",
       "      <td>567.049988</td>\n",
       "      <td>66.869888</td>\n",
       "      <td>136.009995</td>\n",
       "      <td>291.919708</td>\n",
       "      <td>206.702011</td>\n",
       "      <td>144.570007</td>\n",
       "      <td>...</td>\n",
       "      <td>158.739975</td>\n",
       "      <td>534.726807</td>\n",
       "      <td>234.550400</td>\n",
       "      <td>147.652893</td>\n",
       "      <td>40.811028</td>\n",
       "      <td>257.207886</td>\n",
       "      <td>35.694466</td>\n",
       "      <td>47.775150</td>\n",
       "      <td>51.821510</td>\n",
       "      <td>98.067657</td>\n",
       "    </tr>\n",
       "    <tr>\n",
       "      <th>2024-01-05</th>\n",
       "      <td>180.098694</td>\n",
       "      <td>154.960663</td>\n",
       "      <td>108.065033</td>\n",
       "      <td>331.294281</td>\n",
       "      <td>564.599976</td>\n",
       "      <td>67.240150</td>\n",
       "      <td>138.580002</td>\n",
       "      <td>291.756012</td>\n",
       "      <td>205.569962</td>\n",
       "      <td>145.240005</td>\n",
       "      <td>...</td>\n",
       "      <td>159.348038</td>\n",
       "      <td>526.844482</td>\n",
       "      <td>233.431458</td>\n",
       "      <td>149.280014</td>\n",
       "      <td>41.377720</td>\n",
       "      <td>257.287170</td>\n",
       "      <td>36.446980</td>\n",
       "      <td>48.395607</td>\n",
       "      <td>51.476604</td>\n",
       "      <td>98.364777</td>\n",
       "    </tr>\n",
       "    <tr>\n",
       "      <th>2024-01-08</th>\n",
       "      <td>184.452560</td>\n",
       "      <td>154.282104</td>\n",
       "      <td>109.625542</td>\n",
       "      <td>334.965302</td>\n",
       "      <td>580.549988</td>\n",
       "      <td>66.470413</td>\n",
       "      <td>146.179993</td>\n",
       "      <td>299.343597</td>\n",
       "      <td>207.296799</td>\n",
       "      <td>149.100006</td>\n",
       "      <td>...</td>\n",
       "      <td>162.668182</td>\n",
       "      <td>526.001343</td>\n",
       "      <td>234.122269</td>\n",
       "      <td>150.408615</td>\n",
       "      <td>41.519390</td>\n",
       "      <td>260.110779</td>\n",
       "      <td>36.356312</td>\n",
       "      <td>48.395607</td>\n",
       "      <td>51.982471</td>\n",
       "      <td>96.725838</td>\n",
       "    </tr>\n",
       "  </tbody>\n",
       "</table>\n",
       "<p>5 rows × 101 columns</p>\n",
       "</div>"
      ],
      "text/plain": [
       "Ticker            AAPL        ABBV         ABT         ACN        ADBE  \\\n",
       "Date                                                                     \n",
       "2024-01-02  184.532089  152.743408  107.138481  341.431366  580.070007   \n",
       "2024-01-03  183.150375  153.355072  106.816628  332.573730  571.789978   \n",
       "2024-01-04  180.824356  154.310791  108.240593  331.756866  567.049988   \n",
       "2024-01-05  180.098694  154.960663  108.065033  331.294281  564.599976   \n",
       "2024-01-08  184.452560  154.282104  109.625542  334.965302  580.549988   \n",
       "\n",
       "Ticker            AIG         AMD        AMGN         AMT        AMZN  ...  \\\n",
       "Date                                                                   ...   \n",
       "2024-01-02  67.074501  138.580002  286.354187  209.915833  149.929993  ...   \n",
       "2024-01-03  66.850395  135.320007  289.531738  205.963303  148.470001  ...   \n",
       "2024-01-04  66.869888  136.009995  291.919708  206.702011  144.570007  ...   \n",
       "2024-01-05  67.240150  138.580002  291.756012  205.569962  145.240005  ...   \n",
       "2024-01-08  66.470413  146.179993  299.343597  207.296799  149.100006  ...   \n",
       "\n",
       "Ticker             TXN         UNH         UNP         UPS        USB  \\\n",
       "Date                                                                    \n",
       "2024-01-02  163.363098  528.766113  236.856384  148.922592  41.472164   \n",
       "2024-01-03  160.930893  531.403320  235.173096  148.170181  40.376572   \n",
       "2024-01-04  158.739975  534.726807  234.550400  147.652893  40.811028   \n",
       "2024-01-05  159.348038  526.844482  233.431458  149.280014  41.377720   \n",
       "2024-01-08  162.668182  526.001343  234.122269  150.408615  41.519390   \n",
       "\n",
       "Ticker               V         VZ        WFC        WMT        XOM  \n",
       "Date                                                                \n",
       "2024-01-02  256.474792  35.250214  47.823631  52.324093  98.106003  \n",
       "2024-01-03  255.592987  35.504070  47.193470  52.327377  98.930252  \n",
       "2024-01-04  257.207886  35.694466  47.775150  51.821510  98.067657  \n",
       "2024-01-05  257.287170  36.446980  48.395607  51.476604  98.364777  \n",
       "2024-01-08  260.110779  36.356312  48.395607  51.982471  96.725838  \n",
       "\n",
       "[5 rows x 101 columns]"
      ]
     },
     "execution_count": 17,
     "metadata": {},
     "output_type": "execute_result"
    }
   ],
   "source": [
    "sp100 = [\n",
    "    \"AAPL\", \"ABBV\", \"ABT\", \"ACN\", \"ADBE\", \"AIG\", \"AMD\", \"AMGN\", \"AMT\", \"AMZN\",\n",
    "    \"AVGO\", \"AXP\", \"BA\", \"BAC\", \"BK\", \"BKNG\", \"BLK\", \"BMY\", \"BRK-B\", \"C\",\n",
    "    \"CAT\", \"CHTR\", \"CL\", \"CMCSA\", \"COF\", \"COP\", \"COST\", \"CRM\", \"CSCO\", \"CVS\",\n",
    "    \"CVX\", \"DE\", \"DHR\", \"DIS\", \"DUK\", \"EMR\", \"FDX\", \"GD\", \"GE\", \"GILD\", \"GM\",\n",
    "    \"GOOG\", \"GOOGL\", \"GS\", \"HD\", \"HON\", \"IBM\", \"INTC\", \"INTU\", \"ISRG\", \"JNJ\",\n",
    "    \"JPM\", \"KO\", \"LIN\", \"LLY\", \"LMT\", \"LOW\", \"MA\", \"MCD\", \"MDLZ\", \"MDT\",\n",
    "    \"MET\", \"META\", \"MMM\", \"MO\", \"MRK\", \"MS\", \"MSFT\", \"NEE\", \"NFLX\", \"NKE\",\n",
    "    \"NOW\", \"NVDA\", \"ORCL\", \"PEP\", \"PFE\", \"PG\", \"PLTR\", \"PM\", \"PYPL\", \"QCOM\",\n",
    "    \"RTX\", \"SBUX\", \"SCHW\", \"SO\", \"SPG\", \"T\", \"TGT\", \"TMO\", \"TMUS\", \"TSLA\",\n",
    "    \"TXN\", \"UNH\", \"UNP\", \"UPS\", \"USB\", \"V\", \"VZ\", \"WFC\", \"WMT\", \"XOM\"\n",
    "]\n",
    "\n",
    "# this is where you can adjust the date to make q1, q2, q3 ,q4 q1-q4, etc\n",
    "closings = yf.download(sp100,group_by='column', start='2024-01-01', end='2024-12-31')['Close']\n",
    "closings.head()"
   ]
  },
  {
   "cell_type": "markdown",
   "id": "3028445a93de54ec",
   "metadata": {},
   "source": [
    "translate to fractional change"
   ]
  },
  {
   "cell_type": "code",
   "execution_count": 18,
   "id": "9b518f26dead8e3",
   "metadata": {
    "ExecuteTime": {
     "end_time": "2025-04-14T13:30:56.575890Z",
     "start_time": "2025-04-14T13:30:56.532846Z"
    }
   },
   "outputs": [
    {
     "data": {
      "text/html": [
       "<div>\n",
       "<style scoped>\n",
       "    .dataframe tbody tr th:only-of-type {\n",
       "        vertical-align: middle;\n",
       "    }\n",
       "\n",
       "    .dataframe tbody tr th {\n",
       "        vertical-align: top;\n",
       "    }\n",
       "\n",
       "    .dataframe thead th {\n",
       "        text-align: right;\n",
       "    }\n",
       "</style>\n",
       "<table border=\"1\" class=\"dataframe\">\n",
       "  <thead>\n",
       "    <tr style=\"text-align: right;\">\n",
       "      <th>Ticker</th>\n",
       "      <th>AAPL</th>\n",
       "      <th>ABBV</th>\n",
       "      <th>ABT</th>\n",
       "      <th>ACN</th>\n",
       "      <th>ADBE</th>\n",
       "      <th>AIG</th>\n",
       "      <th>AMD</th>\n",
       "      <th>AMGN</th>\n",
       "      <th>AMT</th>\n",
       "      <th>AMZN</th>\n",
       "      <th>...</th>\n",
       "      <th>TXN</th>\n",
       "      <th>UNH</th>\n",
       "      <th>UNP</th>\n",
       "      <th>UPS</th>\n",
       "      <th>USB</th>\n",
       "      <th>V</th>\n",
       "      <th>VZ</th>\n",
       "      <th>WFC</th>\n",
       "      <th>WMT</th>\n",
       "      <th>XOM</th>\n",
       "    </tr>\n",
       "    <tr>\n",
       "      <th>Date</th>\n",
       "      <th></th>\n",
       "      <th></th>\n",
       "      <th></th>\n",
       "      <th></th>\n",
       "      <th></th>\n",
       "      <th></th>\n",
       "      <th></th>\n",
       "      <th></th>\n",
       "      <th></th>\n",
       "      <th></th>\n",
       "      <th></th>\n",
       "      <th></th>\n",
       "      <th></th>\n",
       "      <th></th>\n",
       "      <th></th>\n",
       "      <th></th>\n",
       "      <th></th>\n",
       "      <th></th>\n",
       "      <th></th>\n",
       "      <th></th>\n",
       "      <th></th>\n",
       "    </tr>\n",
       "  </thead>\n",
       "  <tbody>\n",
       "    <tr>\n",
       "      <th>2024-01-02</th>\n",
       "      <td>0.000000</td>\n",
       "      <td>0.000000</td>\n",
       "      <td>0.000000</td>\n",
       "      <td>0.000000</td>\n",
       "      <td>0.000000</td>\n",
       "      <td>0.000000</td>\n",
       "      <td>0.000000</td>\n",
       "      <td>0.000000</td>\n",
       "      <td>0.000000</td>\n",
       "      <td>0.000000</td>\n",
       "      <td>...</td>\n",
       "      <td>0.000000</td>\n",
       "      <td>0.000000</td>\n",
       "      <td>0.000000</td>\n",
       "      <td>0.000000</td>\n",
       "      <td>0.000000</td>\n",
       "      <td>0.000000</td>\n",
       "      <td>0.000000</td>\n",
       "      <td>0.000000</td>\n",
       "      <td>0.000000</td>\n",
       "      <td>0.000000</td>\n",
       "    </tr>\n",
       "    <tr>\n",
       "      <th>2024-01-03</th>\n",
       "      <td>-0.007488</td>\n",
       "      <td>0.004005</td>\n",
       "      <td>-0.003004</td>\n",
       "      <td>-0.025943</td>\n",
       "      <td>-0.014274</td>\n",
       "      <td>-0.003341</td>\n",
       "      <td>-0.023524</td>\n",
       "      <td>0.011097</td>\n",
       "      <td>-0.018829</td>\n",
       "      <td>-0.009738</td>\n",
       "      <td>...</td>\n",
       "      <td>-0.014888</td>\n",
       "      <td>0.004987</td>\n",
       "      <td>-0.007107</td>\n",
       "      <td>-0.005052</td>\n",
       "      <td>-0.026418</td>\n",
       "      <td>-0.003438</td>\n",
       "      <td>0.007202</td>\n",
       "      <td>-0.013177</td>\n",
       "      <td>0.000063</td>\n",
       "      <td>0.008402</td>\n",
       "    </tr>\n",
       "    <tr>\n",
       "      <th>2024-01-04</th>\n",
       "      <td>-0.012700</td>\n",
       "      <td>0.006232</td>\n",
       "      <td>0.013331</td>\n",
       "      <td>-0.002456</td>\n",
       "      <td>-0.008290</td>\n",
       "      <td>0.000292</td>\n",
       "      <td>0.005099</td>\n",
       "      <td>0.008248</td>\n",
       "      <td>0.003587</td>\n",
       "      <td>-0.026268</td>\n",
       "      <td>...</td>\n",
       "      <td>-0.013614</td>\n",
       "      <td>0.006254</td>\n",
       "      <td>-0.002648</td>\n",
       "      <td>-0.003491</td>\n",
       "      <td>0.010760</td>\n",
       "      <td>0.006318</td>\n",
       "      <td>0.005363</td>\n",
       "      <td>0.012325</td>\n",
       "      <td>-0.009667</td>\n",
       "      <td>-0.008719</td>\n",
       "    </tr>\n",
       "    <tr>\n",
       "      <th>2024-01-05</th>\n",
       "      <td>-0.004013</td>\n",
       "      <td>0.004211</td>\n",
       "      <td>-0.001622</td>\n",
       "      <td>-0.001394</td>\n",
       "      <td>-0.004321</td>\n",
       "      <td>0.005537</td>\n",
       "      <td>0.018896</td>\n",
       "      <td>-0.000561</td>\n",
       "      <td>-0.005477</td>\n",
       "      <td>0.004634</td>\n",
       "      <td>...</td>\n",
       "      <td>0.003831</td>\n",
       "      <td>-0.014741</td>\n",
       "      <td>-0.004771</td>\n",
       "      <td>0.011020</td>\n",
       "      <td>0.013886</td>\n",
       "      <td>0.000308</td>\n",
       "      <td>0.021082</td>\n",
       "      <td>0.012987</td>\n",
       "      <td>-0.006656</td>\n",
       "      <td>0.003030</td>\n",
       "    </tr>\n",
       "    <tr>\n",
       "      <th>2024-01-08</th>\n",
       "      <td>0.024175</td>\n",
       "      <td>-0.004379</td>\n",
       "      <td>0.014440</td>\n",
       "      <td>0.011081</td>\n",
       "      <td>0.028250</td>\n",
       "      <td>-0.011448</td>\n",
       "      <td>0.054842</td>\n",
       "      <td>0.026007</td>\n",
       "      <td>0.008400</td>\n",
       "      <td>0.026577</td>\n",
       "      <td>...</td>\n",
       "      <td>0.020836</td>\n",
       "      <td>-0.001600</td>\n",
       "      <td>0.002959</td>\n",
       "      <td>0.007560</td>\n",
       "      <td>0.003424</td>\n",
       "      <td>0.010975</td>\n",
       "      <td>-0.002488</td>\n",
       "      <td>0.000000</td>\n",
       "      <td>0.009827</td>\n",
       "      <td>-0.016662</td>\n",
       "    </tr>\n",
       "  </tbody>\n",
       "</table>\n",
       "<p>5 rows × 101 columns</p>\n",
       "</div>"
      ],
      "text/plain": [
       "Ticker          AAPL      ABBV       ABT       ACN      ADBE       AIG  \\\n",
       "Date                                                                     \n",
       "2024-01-02  0.000000  0.000000  0.000000  0.000000  0.000000  0.000000   \n",
       "2024-01-03 -0.007488  0.004005 -0.003004 -0.025943 -0.014274 -0.003341   \n",
       "2024-01-04 -0.012700  0.006232  0.013331 -0.002456 -0.008290  0.000292   \n",
       "2024-01-05 -0.004013  0.004211 -0.001622 -0.001394 -0.004321  0.005537   \n",
       "2024-01-08  0.024175 -0.004379  0.014440  0.011081  0.028250 -0.011448   \n",
       "\n",
       "Ticker           AMD      AMGN       AMT      AMZN  ...       TXN       UNH  \\\n",
       "Date                                                ...                       \n",
       "2024-01-02  0.000000  0.000000  0.000000  0.000000  ...  0.000000  0.000000   \n",
       "2024-01-03 -0.023524  0.011097 -0.018829 -0.009738  ... -0.014888  0.004987   \n",
       "2024-01-04  0.005099  0.008248  0.003587 -0.026268  ... -0.013614  0.006254   \n",
       "2024-01-05  0.018896 -0.000561 -0.005477  0.004634  ...  0.003831 -0.014741   \n",
       "2024-01-08  0.054842  0.026007  0.008400  0.026577  ...  0.020836 -0.001600   \n",
       "\n",
       "Ticker           UNP       UPS       USB         V        VZ       WFC  \\\n",
       "Date                                                                     \n",
       "2024-01-02  0.000000  0.000000  0.000000  0.000000  0.000000  0.000000   \n",
       "2024-01-03 -0.007107 -0.005052 -0.026418 -0.003438  0.007202 -0.013177   \n",
       "2024-01-04 -0.002648 -0.003491  0.010760  0.006318  0.005363  0.012325   \n",
       "2024-01-05 -0.004771  0.011020  0.013886  0.000308  0.021082  0.012987   \n",
       "2024-01-08  0.002959  0.007560  0.003424  0.010975 -0.002488  0.000000   \n",
       "\n",
       "Ticker           WMT       XOM  \n",
       "Date                            \n",
       "2024-01-02  0.000000  0.000000  \n",
       "2024-01-03  0.000063  0.008402  \n",
       "2024-01-04 -0.009667 -0.008719  \n",
       "2024-01-05 -0.006656  0.003030  \n",
       "2024-01-08  0.009827 -0.016662  \n",
       "\n",
       "[5 rows x 101 columns]"
      ]
     },
     "execution_count": 18,
     "metadata": {},
     "output_type": "execute_result"
    }
   ],
   "source": [
    "day_stock_returns_daily = closings.pct_change().fillna(0)\n",
    "day_stock_returns_daily.head() # day x stock"
   ]
  },
  {
   "cell_type": "markdown",
   "id": "181cf0931d591984",
   "metadata": {},
   "source": [
    "make benchmark\n",
    "\n",
    "this assumes the sp100 index is non weighed"
   ]
  },
  {
   "cell_type": "code",
   "execution_count": 19,
   "id": "c75718922cbfc08f",
   "metadata": {
    "ExecuteTime": {
     "end_time": "2025-04-14T13:30:56.723398Z",
     "start_time": "2025-04-14T13:30:56.714590Z"
    }
   },
   "outputs": [
    {
     "data": {
      "text/plain": [
       "Date\n",
       "2024-01-02    0.000000\n",
       "2024-01-03   -0.008313\n",
       "2024-01-04   -0.000929\n",
       "2024-01-05    0.002937\n",
       "2024-01-08    0.010035\n",
       "dtype: float64"
      ]
     },
     "execution_count": 19,
     "metadata": {},
     "output_type": "execute_result"
    }
   ],
   "source": [
    "day_mean_return = day_stock_returns_daily.mean(axis=1)\n",
    "day_mean_return.head() # day x mean"
   ]
  },
  {
   "cell_type": "markdown",
   "id": "5050dcd7acc04973",
   "metadata": {},
   "source": [
    "definitions and constants"
   ]
  },
  {
   "cell_type": "code",
   "execution_count": 20,
   "id": "99b5940ed648013d",
   "metadata": {
    "ExecuteTime": {
     "end_time": "2025-04-14T13:30:56.857849Z",
     "start_time": "2025-04-14T13:30:56.851466Z"
    }
   },
   "outputs": [],
   "source": [
    "q = 3  # nr of desired stocks\n",
    "\n",
    "stocks = range(len(sp100)) # map the code to an integer\n",
    "time_periods = range(len(day_stock_returns_daily)) # map the day to an integer\n",
    "\n",
    "# data for ampl\n",
    "stock_day_returns_daily = day_stock_returns_daily.values.T  # stocks x day\n",
    "day_mean_return_array = day_mean_return.values"
   ]
  },
  {
   "cell_type": "code",
   "execution_count": 21,
   "id": "c1529e2d28dbc13a",
   "metadata": {
    "ExecuteTime": {
     "end_time": "2025-04-14T13:31:22.070526Z",
     "start_time": "2025-04-14T13:30:57.020051Z"
    }
   },
   "outputs": [
    {
     "name": "stdout",
     "output_type": "stream",
     "text": [
      "Gurobi 12.0.1:Gurobi 12.0.1: optimal solution; objective 0.00420215801\n",
      "925780 simplex iterations\n",
      "149291 branching nodes\n",
      "absmipgap=8.67362e-19, relmipgap=0\n"
     ]
    }
   ],
   "source": [
    "# init ampl\n",
    "ampl = AMPL(Environment())\n",
    "ampl.setOption('solver', 'gurobi')  # or 'cplex', 'ipopt', etc.\n",
    "\n",
    "ampl.eval(\"\"\"\n",
    "set STOCKS;\n",
    "set TIME;\n",
    "\n",
    "param returns{STOCKS, TIME};\n",
    "param day_mean_return_array{TIME};\n",
    "param q;\n",
    "\n",
    "var w{STOCKS} >= 0;  # weights of selected\n",
    "var y{STOCKS} binary; # selected? bool\n",
    "\n",
    "minimize tracking_error:\n",
    "    sum{t in TIME} (sum{s in STOCKS} (w[s] * returns[s,t]) - day_mean_return_array[t])^2; # tracking error function - quadratic!!!!\n",
    "\n",
    "subject to sum_weights:\n",
    "    sum{s in STOCKS} w[s] = 1; # weights have to sum up to 1\n",
    "\n",
    "subject to select_q_stocks:\n",
    "    sum{s in STOCKS} y[s] = q; # there must be q selected\n",
    "\n",
    "subject to linking_constraint{s in STOCKS}:\n",
    "    w[s] <= y[s];  # selection means weight\n",
    "\n",
    "\"\"\")\n",
    "\n",
    "ampl.set['STOCKS'] = list(stocks)\n",
    "ampl.set['TIME'] = list(time_periods)\n",
    "ampl.param['returns'] = {(s, t): stock_day_returns_daily[s][t] for s in stocks for t in time_periods}\n",
    "ampl.param['day_mean_return_array'] = {t: day_mean_return_array[t] for t in time_periods}\n",
    "ampl.param['q'] = q\n",
    "\n",
    "ampl.solve()"
   ]
  },
  {
   "cell_type": "markdown",
   "id": "eaeef26c2a1444cc",
   "metadata": {},
   "source": [
    "display"
   ]
  },
  {
   "cell_type": "code",
   "execution_count": 22,
   "id": "fc9434275a1242e8",
   "metadata": {
    "ExecuteTime": {
     "end_time": "2025-04-14T13:31:22.115574Z",
     "start_time": "2025-04-14T13:31:22.104665Z"
    }
   },
   "outputs": [
    {
     "data": {
      "text/plain": [
       "{'BRK-B': 0.4964872733738995,\n",
       " 'LOW': 0.238976795757593,\n",
       " 'MSFT': 0.2645359308685075}"
      ]
     },
     "execution_count": 22,
     "metadata": {},
     "output_type": "execute_result"
    }
   ],
   "source": [
    "results = {\n",
    "    sp100[s]: w for s, w in filter(lambda w: w[1] > 0, ampl.getVariable('w').getValues().to_list())\n",
    "}\n",
    "\n",
    "results_2 = {\n",
    "    s: w for s, w in filter(lambda w: w[1] > 0, ampl.getVariable('w').getValues().to_list())\n",
    "}\n",
    "\n",
    "results"
   ]
  },
  {
   "cell_type": "markdown",
   "id": "565f1d34b4ba85c9",
   "metadata": {},
   "source": [
    "## evaluation"
   ]
  },
  {
   "cell_type": "code",
   "execution_count": 23,
   "id": "ec132ef728563311",
   "metadata": {
    "ExecuteTime": {
     "end_time": "2025-04-14T13:31:22.178819Z",
     "start_time": "2025-04-14T13:31:22.166539Z"
    }
   },
   "outputs": [
    {
     "data": {
      "text/plain": [
       "Date\n",
       "2024-01-02    0.000000\n",
       "2024-01-03   -0.001289\n",
       "2024-01-04   -0.007237\n",
       "2024-01-05    0.003930\n",
       "2024-01-08    0.013716\n",
       "                ...   \n",
       "2024-12-23    0.000104\n",
       "2024-12-24    0.009943\n",
       "2024-12-26   -0.001034\n",
       "2024-12-27   -0.008401\n",
       "2024-12-30   -0.009783\n",
       "Length: 251, dtype: float64"
      ]
     },
     "execution_count": 23,
     "metadata": {},
     "output_type": "execute_result"
    }
   ],
   "source": [
    "weights2 = {\n",
    "    s: w for s, w in filter(lambda w: w[1] > 0, ampl.getVariable('w').getValues().to_list())\n",
    "}\n",
    "\n",
    "selected_stocks_idx = weights2.keys()\n",
    "selected_stocks_name = [sp100[i] for i in selected_stocks_idx]\n",
    "selected_weights = [weights2[s] for s in selected_stocks_idx]\n",
    "\n",
    "# apply the portfolio factor in a daily basis to the daily retuns\n",
    "\n",
    "portfolio_returns = pd.Series(\n",
    "    [\n",
    "        sum(stock_day_returns_daily[s][t] * weights2[s] for s in selected_stocks_idx) for t in time_periods\n",
    "    ],\n",
    "    index=day_stock_returns_daily.index\n",
    ")\n",
    "portfolio_returns"
   ]
  },
  {
   "cell_type": "markdown",
   "id": "14706f01a823717f",
   "metadata": {},
   "source": [
    "## correlation coefficient"
   ]
  },
  {
   "cell_type": "code",
   "execution_count": 24,
   "id": "2b2fdbcc29bfc474",
   "metadata": {
    "ExecuteTime": {
     "end_time": "2025-04-14T13:31:22.275373Z",
     "start_time": "2025-04-14T13:31:22.271580Z"
    }
   },
   "outputs": [
    {
     "data": {
      "text/plain": [
       "array([[1.        , 0.84836446],\n",
       "       [0.84836446, 1.        ]])"
      ]
     },
     "execution_count": 24,
     "metadata": {},
     "output_type": "execute_result"
    }
   ],
   "source": [
    "correlation = np.corrcoef(portfolio_returns, day_mean_return_array)\n",
    "correlation"
   ]
  },
  {
   "cell_type": "markdown",
   "id": "a82b68a7d4e09456",
   "metadata": {},
   "source": [
    "83% correlation\n",
    "## tracking error\n",
    "compare"
   ]
  },
  {
   "cell_type": "code",
   "execution_count": 25,
   "id": "3fd6ad6517ae6b75",
   "metadata": {
    "ExecuteTime": {
     "end_time": "2025-04-14T13:31:22.407031Z",
     "start_time": "2025-04-14T13:31:22.404100Z"
    }
   },
   "outputs": [],
   "source": [
    "tracking_error = np.sqrt( # root mean squared error (to get original units)\n",
    "    np.mean( # mean squared error\n",
    "        (portfolio_returns - day_mean_return_array)**2 # squared error\n",
    "    )\n",
    ")"
   ]
  },
  {
   "cell_type": "code",
   "execution_count": 26,
   "id": "aae7f80fdc4c9d61",
   "metadata": {
    "ExecuteTime": {
     "end_time": "2025-04-14T13:31:22.448827Z",
     "start_time": "2025-04-14T13:31:22.441Z"
    }
   },
   "outputs": [
    {
     "name": "stdout",
     "output_type": "stream",
     "text": [
      "BRK-B: 0.4965\n",
      "LOW: 0.2390\n",
      "MSFT: 0.2645\n",
      "correlation with sp100: 0.8484\n",
      "tracking error: 0.0041\n"
     ]
    }
   ],
   "source": [
    "for si, w in weights2.items():\n",
    "    print(f\"{sp100[si]}: {w:.4f}\")\n",
    "\n",
    "print(f\"correlation with sp100: {correlation[0, 1]:.4f}\")\n",
    "print(f\"tracking error: {tracking_error:.4f}\")"
   ]
  },
  {
   "cell_type": "markdown",
   "id": "59820d25a92aa439",
   "metadata": {},
   "source": [
    "## plot\n",
    "side by side cumulative return comparison against the benchmark"
   ]
  },
  {
   "cell_type": "code",
   "execution_count": 27,
   "id": "34a7e6397379f9f7",
   "metadata": {
    "ExecuteTime": {
     "end_time": "2025-04-14T13:31:22.638936Z",
     "start_time": "2025-04-14T13:31:22.502516Z"
    }
   },
   "outputs": [
    {
     "data": {
      "image/png": "[encoded data removed]",
      "text/plain": [
       "<Figure size 1200x600 with 1 Axes>"
      ]
     },
     "metadata": {},
     "output_type": "display_data"
    }
   ],
   "source": [
    "cumulative_index = (1 + day_mean_return).cumprod()\n",
    "cumulative_portfolio = (1 + portfolio_returns).cumprod()\n",
    "\n",
    "plt.figure(figsize=(12, 6))\n",
    "plt.plot(cumulative_index, label='sp100')\n",
    "plt.plot(cumulative_portfolio, label=','.join([sp100[s] for s in weights2.keys()]))\n",
    "plt.xlabel('date')\n",
    "plt.ylabel('cumulative return')\n",
    "plt.legend()\n",
    "plt.grid(True)\n",
    "plt.show()"
   ]
  }
 ],
 "metadata": {
  "kernelspec": {
   "display_name": "venv",
   "language": "python",
   "name": "python3"
  },
  "language_info": {
   "codemirror_mode": {
    "name": "ipython",
    "version": 3
   },
   "file_extension": ".py",
   "mimetype": "text/x-python",
   "name": "python",
   "nbconvert_exporter": "python",
   "pygments_lexer": "ipython3",
   "version": "3.12.7"
  }
 },
 "nbformat": 4,
 "nbformat_minor": 5
}
